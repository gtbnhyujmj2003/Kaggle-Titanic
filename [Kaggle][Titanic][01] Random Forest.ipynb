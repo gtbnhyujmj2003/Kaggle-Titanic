{
 "cells": [
  {
   "cell_type": "code",
   "execution_count": 1,
   "metadata": {},
   "outputs": [],
   "source": [
    "# 載入資料\n",
    "\n",
    "import pandas as pd\n",
    "train = pd.read_csv(\"./titanic/train.csv\", encoding=\"UTF8\")\n",
    "test = pd.read_csv(\"./titanic/test.csv\", encoding=\"UTF8\")\n",
    "\n",
    "# train\n",
    "# test\n",
    "# 891 rows × 12 columns"
   ]
  },
  {
   "cell_type": "code",
   "execution_count": 2,
   "metadata": {},
   "outputs": [],
   "source": [
    "# 找空格 in train\n",
    "\n",
    "# 是 NaN > 帶回 TRUE，不是 NaN > 則帶回 FALSE。\n",
    "NaN = train.isna()\n",
    "\n",
    "# 統計有多少 NaN\n",
    "sumNaN = NaN.sum()\n",
    "# sumNaN\n",
    "\n",
    "# 補值\n",
    "# Age & Cabin & Embarked\n",
    "# Cabin 實在缺太多不補\n",
    "\n",
    "# 先算中位數 -> '類別資料' 不能補中位數 (ex. PClass = 艙等 = 補眾數)\n",
    "# 沒缺的可drop也可以不drop -> 因為沒缺值沒辦法補\n",
    "med = train.median()\n",
    "# med\n",
    "med_drop = med.drop(\"Pclass\")\n",
    "# med_drop\n",
    "\n",
    "# 要回存train\n",
    "train = train.fillna(med_drop)\n",
    "\n",
    "# 補最常出現的 (眾數)\n",
    "# Embarked = 出發地\n",
    "\n",
    "# value_counts() = 出現幾次, idxmax() = 找最大值的index\n",
    "most = train[\"Embarked\"].value_counts().idxmax()\n",
    "\n",
    "# 填值後記得回存\n",
    "train[\"Embarked\"] = train[\"Embarked\"].fillna(most)\n",
    "\n",
    "# 在看一次有無空值\n",
    "countNaN_train = train.isna().sum()\n",
    "# countNaN_train"
   ]
  },
  {
   "cell_type": "code",
   "execution_count": 3,
   "metadata": {},
   "outputs": [],
   "source": [
    "# 找空格 in test\n",
    "\n",
    "test_NaN = test.isna()\n",
    "test_sumNaN = test_NaN.sum()\n",
    "# test_sumNaN\n",
    "\n",
    "# 補值\n",
    "# Age & Cabin\n",
    "# Cabin 實在缺太多不補\n",
    "\n",
    "# 不可以再算一次 test.median()\n",
    "# 要用 train.medium()補\n",
    "# ^^^^^^^^^^^^^^^^^^^^^  (重點)\n",
    "\n",
    "test = test.fillna(med_drop)\n",
    "\n",
    "# 在看一次有無空值\n",
    "countNaN_test = test.isna().sum()\n",
    "# countNaN_test"
   ]
  },
  {
   "cell_type": "code",
   "execution_count": 4,
   "metadata": {},
   "outputs": [
    {
     "data": {
      "text/plain": [
       "'Mr'"
      ]
     },
     "execution_count": 4,
     "metadata": {},
     "output_type": "execute_result"
    }
   ],
   "source": [
    "# 處理 名子裡的關鍵字\n",
    "# 正則表達式\n",
    "\n",
    "import re\n",
    "\n",
    "s = \"Braund, Mr. Owen Harris\"\n",
    "s = s.split(\",\")[-1].split(\".\")[0]\n",
    "s.strip()"
   ]
  },
  {
   "cell_type": "code",
   "execution_count": 5,
   "metadata": {},
   "outputs": [],
   "source": [
    "def namecut(s):\n",
    "    reserve = [\"Mr\", \"Miss\", \"Mrs\", \"Master\"]\n",
    "    \n",
    "    s = s.split(\",\")[-1].split(\".\")[0]\n",
    "    s = s.strip()\n",
    "    \n",
    "    if s in reserve:\n",
    "        return s \n",
    "    \n",
    "    else:\n",
    "        return None\n",
    "\n",
    "# --------------------------------------------------\n",
    "\n",
    "# value_counts() > 有些稱謂量太少 會過擬合\n",
    "# 記得回存\n",
    "\n",
    "# train[\"Name\"].apply(namecut).value_counts()\n",
    "train[\"Name\"] = train[\"Name\"].apply(namecut)\n",
    "test[\"Name\"] = test[\"Name\"].apply(namecut)\n",
    "\n",
    "# train\n",
    "# test"
   ]
  },
  {
   "cell_type": "code",
   "execution_count": 6,
   "metadata": {},
   "outputs": [],
   "source": [
    "# one-hot encoding\n",
    "# pandas.get_dummies() = 函數功能：將類別變量轉換為標籤變量。\n",
    "\n",
    "# [\"Name\"] 現在已經被改成稱謂了\n",
    "\n",
    "x_train = pd.get_dummies(train,\n",
    "                         columns = [\"Name\", \"Sex\", \"Embarked\"])\n",
    "\n",
    "x_predict = pd.get_dummies(test,\n",
    "                         columns = [\"Name\", \"Sex\", \"Embarked\"])\n",
    "\n",
    "# x_train\n",
    "# x_predict"
   ]
  },
  {
   "cell_type": "code",
   "execution_count": 7,
   "metadata": {},
   "outputs": [],
   "source": [
    "# 刪掉毫無預測價值的直列\n",
    "x_train2 = x_train.drop([\"PassengerId\", \"Survived\", \"Ticket\", \"Cabin\"], axis = 1)\n",
    "\n",
    "# test中刪掉一樣的直列\n",
    "x_predict2 = x_predict.drop([\"PassengerId\", \"Ticket\", \"Cabin\"], axis = 1)\n",
    "\n",
    "# 答案\n",
    "y_train2 = x_train[\"Survived\"]\n",
    "\n",
    "# 保留\n",
    "predict_id = x_predict[\"PassengerId\"]\n",
    "\n",
    "# x_train2\n",
    "# x_predict2\n",
    "# y_train2"
   ]
  },
  {
   "cell_type": "code",
   "execution_count": 8,
   "metadata": {},
   "outputs": [
    {
     "name": "stdout",
     "output_type": "stream",
     "text": [
      "最佳參數: {'max_depth': 9, 'n_estimators': 80}\n",
      "最佳平均分數: 0.838426966292135\n"
     ]
    }
   ],
   "source": [
    "# 隨機森林 開始\n",
    "# ps.先算預測力\n",
    "# 這區是先算預測力後來拿調參數衝預測力用的\n",
    "\n",
    "from sklearn.ensemble import RandomForestClassifier\n",
    "from sklearn.model_selection import GridSearchCV\n",
    "\n",
    "clf = RandomForestClassifier()\n",
    "\n",
    "params = {\n",
    "    \"n_estimators\": range(20, 110, 10),\n",
    "    \"max_depth\": range(5, 11)\n",
    "}\n",
    "\n",
    "#----------------------------------------------------------\n",
    "# 算最佳參數\n",
    "\n",
    "Grid = GridSearchCV(clf, params, cv = 10, n_jobs = 4 )\n",
    "Grid.fit(x_train2, y_train2)\n",
    "\n",
    "print(\"最佳參數:\", Grid.best_params_)\n",
    "print(\"最佳平均分數:\", Grid.best_score_)"
   ]
  },
  {
   "cell_type": "code",
   "execution_count": 9,
   "metadata": {},
   "outputs": [
    {
     "name": "stdout",
     "output_type": "stream",
     "text": [
      "10次分數: [0.767, 0.876, 0.73, 0.899, 0.899, 0.809, 0.82, 0.764, 0.865, 0.831]\n",
      "\n",
      "average: 0.8260000000000002\n"
     ]
    }
   ],
   "source": [
    "# 先寫這欄\n",
    "# 算預測力\n",
    "# ps.先算預測力\n",
    "\n",
    "from sklearn.model_selection import cross_val_score\n",
    "\n",
    "clf = RandomForestClassifier(n_estimators = 60, max_depth = 7)\n",
    "\n",
    "scores = cross_val_score(clf,\n",
    "                         x_train2,\n",
    "                         y_train2,\n",
    "                         cv = 10,\n",
    "                         n_jobs = 4)\n",
    "\n",
    "import numpy as np\n",
    "scores = np.around(scores, decimals=3)\n",
    "\n",
    "print(\"10次分數:\", list(scores))\n",
    "print(\"\")\n",
    "print(\"average:\", sum(scores)/len(scores))"
   ]
  },
  {
   "cell_type": "code",
   "execution_count": 10,
   "metadata": {},
   "outputs": [
    {
     "data": {
      "text/plain": [
       "RandomForestClassifier(bootstrap=True, ccp_alpha=0.0, class_weight=None,\n",
       "                       criterion='gini', max_depth=7, max_features='auto',\n",
       "                       max_leaf_nodes=None, max_samples=None,\n",
       "                       min_impurity_decrease=0.0, min_impurity_split=None,\n",
       "                       min_samples_leaf=1, min_samples_split=2,\n",
       "                       min_weight_fraction_leaf=0.0, n_estimators=27,\n",
       "                       n_jobs=None, oob_score=False, random_state=None,\n",
       "                       verbose=0, warm_start=False)"
      ]
     },
     "execution_count": 10,
     "metadata": {},
     "output_type": "execute_result"
    }
   ],
   "source": [
    "# '真樹' 在此\n",
    "# 來預測喔--->\n",
    "\n",
    "clf = RandomForestClassifier(n_estimators = 27, max_depth = 7)\n",
    "clf.fit(x_train2, y_train2)"
   ]
  },
  {
   "cell_type": "code",
   "execution_count": 11,
   "metadata": {
    "scrolled": true
   },
   "outputs": [],
   "source": [
    "# 來預言喔\n",
    "\n",
    "pre = clf.predict(x_predict2)\n",
    "# pre"
   ]
  },
  {
   "cell_type": "code",
   "execution_count": 12,
   "metadata": {},
   "outputs": [],
   "source": [
    "# 預言要補上對應 ID\n",
    "\n",
    "result = pd.DataFrame({\n",
    "        \"PassengerId\":predict_id,\n",
    "        \"Survived\":pre})\n",
    "\n",
    "# 存檔\n",
    "result.to_csv(\"titanic_rf.csv\", encoding=\"UTF8\", index=False)\n",
    "\n",
    "# result"
   ]
  }
 ],
 "metadata": {
  "kernelspec": {
   "display_name": "Python 3",
   "language": "python",
   "name": "python3"
  },
  "language_info": {
   "codemirror_mode": {
    "name": "ipython",
    "version": 3
   },
   "file_extension": ".py",
   "mimetype": "text/x-python",
   "name": "python",
   "nbconvert_exporter": "python",
   "pygments_lexer": "ipython3",
   "version": "3.7.7"
  }
 },
 "nbformat": 4,
 "nbformat_minor": 4
}
